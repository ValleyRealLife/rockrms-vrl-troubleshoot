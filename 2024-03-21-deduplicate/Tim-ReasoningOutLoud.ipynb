{
    "metadata": {
        "kernelspec": {
            "name": "SQL",
            "display_name": "SQL",
            "language": "sql"
        },
        "language_info": {
            "name": "sql",
            "version": ""
        }
    },
    "nbformat_minor": 2,
    "nbformat": 4,
    "cells": [
        {
            "cell_type": "markdown",
            "source": [
                "The idea is to end with deleting all the rows from \\[FinancialTransaction\\] that have been created on or after '2024-03-13 00:00:00.000'\n",
                "\n",
                "Therefore, these are all the rows from \\[FinancialTransaction\\] that should be deleted:"
            ],
            "metadata": {
                "azdata_cell_guid": "b4744062-08c8-4a58-b560-f94564d1e974"
            },
            "attachments": {}
        },
        {
            "cell_type": "code",
            "source": [
                "SELECT\n",
                "    COUNT(*) AS 'Count FinancialTransaction'\n",
                "FROM\n",
                "    [FinancialTransaction] ft\n",
                "WHERE\n",
                "    ft.[CreatedDateTime] >= '2024-03-13 00:00:00.000'\n",
                "    AND\n",
                "    ft.[SourceTypeValueId] NOT IN (513, 577)\n",
                ";"
            ],
            "metadata": {
                "azdata_cell_guid": "ee5192fb-57bf-4a65-bb02-2a7f063aa258",
                "language": "sql",
                "tags": []
            },
            "outputs": [
                {
                    "output_type": "display_data",
                    "data": {
                        "text/html": "(1 row affected)"
                    },
                    "metadata": {}
                },
                {
                    "output_type": "display_data",
                    "data": {
                        "text/html": "Total execution time: 00:00:00.095"
                    },
                    "metadata": {}
                },
                {
                    "output_type": "execute_result",
                    "execution_count": 5,
                    "data": {
                        "application/vnd.dataresource+json": {
                            "schema": {
                                "fields": [
                                    {
                                        "name": "Count FinancialTransaction"
                                    }
                                ]
                            },
                            "data": [
                                {
                                    "Count FinancialTransaction": "1226"
                                }
                            ]
                        },
                        "text/html": "<table><tr><th>Count FinancialTransaction</th></tr><tr><td>1226</td></tr></table>"
                    },
                    "metadata": {}
                }
            ],
            "execution_count": 5
        },
        {
            "cell_type": "markdown",
            "source": [
                "This second SQL query shows all the rows from \\[FinancialTransactionDetail\\] that should be deleted:\n",
                "\n",
                "<u>Note</u>:\n",
                "\n",
                "I expected this COUNT to match the COUNT from \\[FinancialTransaction\\], but it doesn't.\n",
                "\n",
                "There are fewer \\[FinancialTransactionDetail\\] rows than there are \\[FinancialTransaction\\] rows. Therefore, there are some FinancialTransactions without a matching Detail."
            ],
            "metadata": {
                "azdata_cell_guid": "dd4620a1-3c5d-4627-af6d-c0173737c750"
            },
            "attachments": {}
        },
        {
            "cell_type": "code",
            "source": [
                "WITH FilteredTransactions AS (SELECT [Id] FROM [FinancialTransaction] WHERE [CreatedDateTime] >= '2024-03-13 00:00:00.000' AND [SourceTypeValueId] NOT IN (513, 577))\n",
                "\n",
                "SELECT\n",
                "    COUNT(*) AS 'Count FinancialTransactionDetail'\n",
                "FROM\n",
                "    [FinancialTransactionDetail] ftd\n",
                "WHERE\n",
                "    ftd.[TransactionId] IN (SELECT [Id] FROM FilteredTransactions)\n",
                ";"
            ],
            "metadata": {
                "azdata_cell_guid": "a28d2264-5d20-4001-8b2f-f3f1a8fd82f8",
                "language": "sql",
                "tags": []
            },
            "outputs": [
                {
                    "output_type": "display_data",
                    "data": {
                        "text/html": "(1 row affected)"
                    },
                    "metadata": {}
                },
                {
                    "output_type": "display_data",
                    "data": {
                        "text/html": "Total execution time: 00:00:00.113"
                    },
                    "metadata": {}
                },
                {
                    "output_type": "execute_result",
                    "execution_count": 6,
                    "data": {
                        "application/vnd.dataresource+json": {
                            "schema": {
                                "fields": [
                                    {
                                        "name": "Count FinancialTransactionDetail"
                                    }
                                ]
                            },
                            "data": [
                                {
                                    "Count FinancialTransactionDetail": "1213"
                                }
                            ]
                        },
                        "text/html": "<table><tr><th>Count FinancialTransactionDetail</th></tr><tr><td>1213</td></tr></table>"
                    },
                    "metadata": {}
                }
            ],
            "execution_count": 6
        },
        {
            "cell_type": "markdown",
            "source": [
                "This is the best way I know how to check whether there would be any rows in \\[FinancialScheduledTransaction\\] relating to \\[FinancialTransaction\\]"
            ],
            "metadata": {
                "azdata_cell_guid": "239b5049-7c7d-46a9-a6e0-2e6664ffbe81"
            },
            "attachments": {}
        },
        {
            "cell_type": "code",
            "source": [
                "WITH FilteredTransactionCodes AS (SELECT [TransactionCode] FROM [FinancialTransaction] WHERE [CreatedDateTime] >= '2024-03-13 00:00:00.000')\n",
                "\n",
                "SELECT\n",
                "    COUNT(*) AS 'Count FinancialScheduledTransaction'\n",
                "FROM\n",
                "    [FinancialScheduledTransaction] fst\n",
                "WHERE\n",
                "    fst.[TransactionCode] IN (SELECT [TransactionCode] FROM FilteredTransactionCodes)\n",
                ";"
            ],
            "metadata": {
                "azdata_cell_guid": "ba5fbd94-7f87-4b2d-8a56-83ab5a311e26",
                "language": "sql"
            },
            "outputs": [
                {
                    "output_type": "display_data",
                    "data": {
                        "text/html": "(1 row affected)"
                    },
                    "metadata": {}
                },
                {
                    "output_type": "display_data",
                    "data": {
                        "text/html": "Total execution time: 00:00:00.077"
                    },
                    "metadata": {}
                },
                {
                    "output_type": "execute_result",
                    "execution_count": 4,
                    "data": {
                        "application/vnd.dataresource+json": {
                            "schema": {
                                "fields": [
                                    {
                                        "name": "Count FinancialScheduledTransaction"
                                    }
                                ]
                            },
                            "data": [
                                {
                                    "Count FinancialScheduledTransaction": "0"
                                }
                            ]
                        },
                        "text/html": "<table><tr><th>Count FinancialScheduledTransaction</th></tr><tr><td>0</td></tr></table>"
                    },
                    "metadata": {}
                }
            ],
            "execution_count": 4
        },
        {
            "cell_type": "markdown",
            "source": [
                "It's worth noting that, had I not included the ft.\\[SourceTypeValueId\\] among the filters in the initial selection of \\[FinancialTransaction\\], i would have deleted rows associated to \"On-Site\" and \"Bank Checks\".\n",
                "\n",
                "  \n",
                "\n",
                "There are 111 rows in \\[FinancialTransactionImage\\] associated to FinancialTransactions that occurred on or after 2024-03-13.\n",
                "\n",
                "I want to keep these \\[FinancialTransactionImage\\] rows intact, which is why we are filtering by ft.\\[SourceTypeValueId\\]\n",
                "\n",
                "  \n",
                "\n",
                "This is how I double-checked and triple-checked my reasoning:"
            ],
            "metadata": {
                "azdata_cell_guid": "a8f7f3fb-de8a-43dc-b7d5-c2f8d8acf252"
            },
            "attachments": {}
        },
        {
            "cell_type": "code",
            "source": [
                "WITH FilteredTransactions0 AS (SELECT [Id] FROM [FinancialTransaction] WHERE [CreatedDateTime] >= '2024-03-13 00:00:00.000')\n",
                "\n",
                "SELECT\n",
                "    COUNT(*) AS 'Count FTI no filter'\n",
                "FROM\n",
                "    [FinancialTransactionImage] fti\n",
                "WHERE\n",
                "    fti.[TransactionId] IN (SELECT [Id] FROM FilteredTransactions0)\n",
                ";\n",
                "\n",
                "WITH FilteredTransactions1a AS (SELECT [Id] FROM [FinancialTransaction] WHERE [CreatedDateTime] >= '2024-03-13 00:00:00.000' AND [SourceTypeValueId] NOT IN (513))\n",
                "\n",
                "SELECT\n",
                "    COUNT(*) AS 'Count FTI 1a filter'\n",
                "FROM\n",
                "    [FinancialTransactionImage] fti\n",
                "WHERE\n",
                "    fti.[TransactionId] IN (SELECT [Id] FROM FilteredTransactions1a)\n",
                ";\n",
                "\n",
                "WITH FilteredTransactions1b AS (SELECT [Id] FROM [FinancialTransaction] WHERE [CreatedDateTime] >= '2024-03-13 00:00:00.000' AND [SourceTypeValueId] NOT IN (577))\n",
                "\n",
                "SELECT\n",
                "    COUNT(*) AS 'Count FTI 1b filter'\n",
                "FROM\n",
                "    [FinancialTransactionImage] fti\n",
                "WHERE\n",
                "    fti.[TransactionId] IN (SELECT [Id] FROM FilteredTransactions1b)\n",
                ";\n",
                "\n",
                "WITH FilteredTransactions2 AS (SELECT [Id] FROM [FinancialTransaction] WHERE [CreatedDateTime] >= '2024-03-13 00:00:00.000' AND [SourceTypeValueId] NOT IN (513, 577))\n",
                "\n",
                "SELECT\n",
                "    COUNT(*) AS 'Count FTI 2 filters'\n",
                "FROM\n",
                "    [FinancialTransactionImage] fti\n",
                "WHERE\n",
                "    fti.[TransactionId] IN (SELECT [Id] FROM FilteredTransactions2)\n",
                ";"
            ],
            "metadata": {
                "azdata_cell_guid": "177b5b62-9815-47f5-bae1-675859b0543b",
                "language": "sql"
            },
            "outputs": [
                {
                    "output_type": "display_data",
                    "data": {
                        "text/html": "(1 row affected)"
                    },
                    "metadata": {}
                },
                {
                    "output_type": "display_data",
                    "data": {
                        "text/html": "(1 row affected)"
                    },
                    "metadata": {}
                },
                {
                    "output_type": "display_data",
                    "data": {
                        "text/html": "(1 row affected)"
                    },
                    "metadata": {}
                },
                {
                    "output_type": "display_data",
                    "data": {
                        "text/html": "(1 row affected)"
                    },
                    "metadata": {}
                },
                {
                    "output_type": "display_data",
                    "data": {
                        "text/html": "Total execution time: 00:00:00.277"
                    },
                    "metadata": {}
                },
                {
                    "output_type": "execute_result",
                    "execution_count": 7,
                    "data": {
                        "application/vnd.dataresource+json": {
                            "schema": {
                                "fields": [
                                    {
                                        "name": "Count FTI no filter"
                                    }
                                ]
                            },
                            "data": [
                                {
                                    "Count FTI no filter": "111"
                                }
                            ]
                        },
                        "text/html": "<table><tr><th>Count FTI no filter</th></tr><tr><td>111</td></tr></table>"
                    },
                    "metadata": {}
                },
                {
                    "output_type": "execute_result",
                    "execution_count": 7,
                    "data": {
                        "application/vnd.dataresource+json": {
                            "schema": {
                                "fields": [
                                    {
                                        "name": "Count FTI 1a filter"
                                    }
                                ]
                            },
                            "data": [
                                {
                                    "Count FTI 1a filter": "70"
                                }
                            ]
                        },
                        "text/html": "<table><tr><th>Count FTI 1a filter</th></tr><tr><td>70</td></tr></table>"
                    },
                    "metadata": {}
                },
                {
                    "output_type": "execute_result",
                    "execution_count": 7,
                    "data": {
                        "application/vnd.dataresource+json": {
                            "schema": {
                                "fields": [
                                    {
                                        "name": "Count FTI 1b filter"
                                    }
                                ]
                            },
                            "data": [
                                {
                                    "Count FTI 1b filter": "41"
                                }
                            ]
                        },
                        "text/html": "<table><tr><th>Count FTI 1b filter</th></tr><tr><td>41</td></tr></table>"
                    },
                    "metadata": {}
                },
                {
                    "output_type": "execute_result",
                    "execution_count": 7,
                    "data": {
                        "application/vnd.dataresource+json": {
                            "schema": {
                                "fields": [
                                    {
                                        "name": "Count FTI 2 filters"
                                    }
                                ]
                            },
                            "data": [
                                {
                                    "Count FTI 2 filters": "0"
                                }
                            ]
                        },
                        "text/html": "<table><tr><th>Count FTI 2 filters</th></tr><tr><td>0</td></tr></table>"
                    },
                    "metadata": {}
                }
            ],
            "execution_count": 7
        },
        {
            "cell_type": "markdown",
            "source": [
                "There are also some other tables that are related to the \\[FinancialTransaction\\] table, but don't have any rows related to the duplication issue, therefore I will not be deleting any rows from these tables.\n",
                "\n",
                "  \n",
                "\n",
                "These tables are:\n",
                "\n",
                "\\[FinancialTransactionAlert\\]\n",
                "\n",
                "\\[FinancialTransactionRefund\\]"
            ],
            "metadata": {
                "azdata_cell_guid": "3cf0d3f0-c18e-4f17-868e-870137292f62"
            },
            "attachments": {}
        },
        {
            "cell_type": "code",
            "source": [
                "WITH FilteredTransactions AS (SELECT [Id] FROM [FinancialTransaction] WHERE [CreatedDateTime] >= '2024-03-13 00:00:00.000')\n",
                "\n",
                "SELECT\n",
                "    COUNT(*) AS 'Count FinancialTransactionAlert'\n",
                "FROM\n",
                "    [FinancialTransactionAlert] fta\n",
                "WHERE\n",
                "    fta.[TransactionId] IN (SELECT [Id] FROM FilteredTransactions)\n",
                ";\n",
                "\n",
                "WITH FilteredTransactions AS (SELECT [Id] FROM [FinancialTransaction] WHERE [CreatedDateTime] >= '2024-03-13 00:00:00.000')\n",
                "\n",
                "SELECT\n",
                "    COUNT(*) AS 'Count FinancialTransactionRefund'\n",
                "FROM\n",
                "    [FinancialTransactionRefund] ftr\n",
                "WHERE\n",
                "    ftr.[OriginalTransactionId] IN (SELECT [Id] FROM FilteredTransactions)\n",
                ";"
            ],
            "metadata": {
                "azdata_cell_guid": "8cadcbd9-5e62-4472-9161-b378592ae158",
                "language": "sql"
            },
            "outputs": [
                {
                    "output_type": "display_data",
                    "data": {
                        "text/html": "(1 row affected)"
                    },
                    "metadata": {}
                },
                {
                    "output_type": "display_data",
                    "data": {
                        "text/html": "(1 row affected)"
                    },
                    "metadata": {}
                },
                {
                    "output_type": "display_data",
                    "data": {
                        "text/html": "Total execution time: 00:00:00.103"
                    },
                    "metadata": {}
                },
                {
                    "output_type": "execute_result",
                    "execution_count": 8,
                    "data": {
                        "application/vnd.dataresource+json": {
                            "schema": {
                                "fields": [
                                    {
                                        "name": "Count FinancialTransactionAlert"
                                    }
                                ]
                            },
                            "data": [
                                {
                                    "Count FinancialTransactionAlert": "0"
                                }
                            ]
                        },
                        "text/html": "<table><tr><th>Count FinancialTransactionAlert</th></tr><tr><td>0</td></tr></table>"
                    },
                    "metadata": {}
                },
                {
                    "output_type": "execute_result",
                    "execution_count": 8,
                    "data": {
                        "application/vnd.dataresource+json": {
                            "schema": {
                                "fields": [
                                    {
                                        "name": "Count FinancialTransactionRefund"
                                    }
                                ]
                            },
                            "data": [
                                {
                                    "Count FinancialTransactionRefund": "0"
                                }
                            ]
                        },
                        "text/html": "<table><tr><th>Count FinancialTransactionRefund</th></tr><tr><td>0</td></tr></table>"
                    },
                    "metadata": {}
                }
            ],
            "execution_count": 8
        },
        {
            "cell_type": "markdown",
            "source": [
                "**<mark><u>Summary</u></mark>**:\n",
                "\n",
                "The only rows I need to delete are 1226 rows from \\[FinancialTransaction\\], and 1213 rows from \\[FinancialTransactionDetail\\]\n",
                "\n",
                "And in order to do that, I need to delete the rows from \\[FinancialTransactionDetail\\] first, and then the rows from \\[FinancialTransaction\\] second."
            ],
            "metadata": {
                "azdata_cell_guid": "11f5883d-4b7d-4edd-bb44-643ea6797b8c"
            },
            "attachments": {}
        },
        {
            "cell_type": "markdown",
            "source": [
                "These are the DELETE statements I used:"
            ],
            "metadata": {
                "azdata_cell_guid": "26dd8e55-938a-416e-b83d-78a6cd48bf20"
            },
            "attachments": {}
        },
        {
            "cell_type": "code",
            "source": [
                "WITH FilteredTransactions AS (\n",
                "    SELECT [Id]\n",
                "    FROM [FinancialTransaction]\n",
                "    WHERE [CreatedDateTime] >= '2024-03-13 00:00:00.000'\n",
                "    AND [SourceTypeValueId] NOT IN (513, 577)\n",
                ")\n",
                "\n",
                "DELETE FROM [FinancialTransactionDetail]\n",
                "WHERE [TransactionId] IN (\n",
                "    SELECT [Id]\n",
                "    FROM FilteredTransactions\n",
                ");\n",
                ""
            ],
            "metadata": {
                "azdata_cell_guid": "b0d00575-0ea8-4834-81a8-8195d2a7b672",
                "language": "sql"
            },
            "outputs": [],
            "execution_count": null
        },
        {
            "cell_type": "code",
            "source": [
                "DELETE FROM [FinancialTransaction]\n",
                "WHERE\n",
                "    [CreatedDateTime] >= '2024-03-13 00:00:00.000'\n",
                "    AND\n",
                "    [SourceTypeValueId] NOT IN (513, 577)\n",
                ";"
            ],
            "metadata": {
                "azdata_cell_guid": "a3f5c451-db93-4cd8-940e-c85d32196f16",
                "language": "sql"
            },
            "outputs": [],
            "execution_count": null
        },
        {
            "cell_type": "markdown",
            "source": [
                "These queries successfully deleted the 1213 rows from \\[FinancialTransactionDetail\\] and 1226 rows from \\[FinancialTransaction\\]"
            ],
            "metadata": {
                "azdata_cell_guid": "7d6dd59c-b1c8-4f3c-bd7c-8f8b4864cdc6"
            },
            "attachments": {}
        }
    ]
}